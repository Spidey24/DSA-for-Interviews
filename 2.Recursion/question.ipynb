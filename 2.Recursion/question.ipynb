{
 "cells": [
  {
   "cell_type": "markdown",
   "metadata": {},
   "source": [
    "#### 1. Digit Sum:\n",
    "\n",
    "**Problem Statement:**\n",
    "Write a recursive function `sum_of_digits(n)` that calculates the sum of the digits of a positive integer `n`.\n",
    "\n",
    "**Description:**\n",
    "\n",
    "The task is to implement a function `sum_of_digits(n)` which, given a positive integer `n`, computes the sum of its digits using recursion. The function should handle cases where `n` can be a single-digit number or multi-digit number.\n",
    "\n",
    "\n",
    "**Constraints:**\n",
    "\n",
    "- The input `n` will be a positive integer.\n",
    "- The function should use recursion to solve the problem.\n",
    "- Assume `n` can be quite large but within the limits of positive integers in your programming language.\n",
    "\n",
    "**Examples:**\n",
    "- sum_of_digits`(4)` # Output: 4\n",
    "- sum_of_digits`(15)` # Output: 6 (since 1 + 5 = 6)\n",
    "- sum_of_digits`(123)` # Output: 6 (since 1 + 2 + 3 = 6)\n",
    "- sum_of_digits`(9876)` # Output: 30 (since 9 + 8 + 7 + 6 = 30)"
   ]
  },
  {
   "cell_type": "code",
   "execution_count": null,
   "metadata": {},
   "outputs": [],
   "source": []
  },
  {
   "cell_type": "markdown",
   "metadata": {},
   "source": [
    "#### 2. Power to:\n",
    "\n",
    "**Problem Statement:**\n",
    "Write a recursive function `n_to_power(base, exponent)` that calculates the power of a number `base` raised to an `exponent`.\n",
    "\n",
    "**Description:**\n",
    "\n",
    "Implement a recursive function `n_to_power(base, exponent)` to compute the result of `base` raised to the power of `exponent` (`base^exponent`). The function should handle positive integer values for both `base` and `exponent`.\n",
    "\n",
    "\n",
    "**Constraints:**\n",
    "\n",
    "- `base` and `exponent` are both positive integers.\n",
    "- The function should use recursion to solve the problem.\n",
    "- The function should handle reasonably large values for `base` and `exponent`.\n",
    "- Assume `exponent` can be zero, and any number raised to the power of 0 is 1.\n",
    "\n",
    "**Examples:**\n",
    "\n",
    "- n_to_power`(2, 5)` # Output: 32 (since 2^5 = 32)\n",
    "- n_to_power`(4, 2)` # Output: 16 (since 4^2 = 16)\n",
    "- n_to_power`(3, 3)` # Output: 27 (since 3^3 = 27)\n",
    "- n_to_power`(10, 0)` # Output: 1 (since any number to the power of 0 is 1)\n",
    "\n"
   ]
  },
  {
   "cell_type": "code",
   "execution_count": null,
   "metadata": {},
   "outputs": [],
   "source": []
  },
  {
   "cell_type": "markdown",
   "metadata": {},
   "source": [
    "#### 3. Greatest Common Divisor:\n",
    "\n",
    "**Problem Statement:**\n",
    "Write a recursive function `gcd(a, b)` that calculates the greatest common divisor of two integers `a` and `b`.\n",
    "\n",
    "**Description:**\n",
    "Implement a recursive function `gcd(a, b)` to compute the greatest common divisor of two integers `a` and `b`. The function should handle cases where `a` and `b` are both integers.\n",
    "\n",
    "**Constraints:**\n",
    "- `a` and `b` are both integers i.e. can be negative or positive.\n",
    "- The function should use recursion to solve the problem.\n",
    "- If either `a` or `b` is negative, the function should return the greatest common divisor of their absolute values.\n",
    "- If `a` or `b` is zero, the function should return the other number as the greatest common divisor.\n",
    "- Assume `a` and `b` can be quite large but within the limits of integers in your programming language.\n",
    "\n",
    "**Examples:**\n",
    "- gcd`(12, 15)` # Output: 3 (since the greatest common divisor of 12 and 15 is 3)\n",
    "- gcd`(24, -36)` # Output: 12 (since the greatest common divisor of 24 and 36 is 12)\n",
    "- gcd`(17, 23)` # Output: 1 (since the greatest common divisor of 17 and 23 is 1)\n",
    "- gcd`(100, 0)` # Output: 100 (since the greatest common divisor of 100 and 0 is 100)\n",
    "\n"
   ]
  },
  {
   "cell_type": "code",
   "execution_count": null,
   "metadata": {},
   "outputs": [],
   "source": []
  },
  {
   "cell_type": "markdown",
   "metadata": {},
   "source": [
    "#### 4. Decimal to Binary:\n",
    "\n",
    "**Problem Statement:**\n",
    "Write a recursive function `decimal_to_binary(n)` that converts a decimal number to binary.\n",
    "\n",
    "**Description:**\n",
    "Implement a recursive function `decimal_to_binary(n)` to convert a decimal number `n` to its binary representation. The function should handle cases where `n` is a positive integer.\n",
    "\n",
    "**Constraints:**\n",
    "- The input `n` will be a positive integer.\n",
    "- The function should use recursion to solve the problem.\n",
    "- Assume `n` can be quite large but within the limits of positive integers in your programming language.\n",
    "\n",
    "**Examples:**\n",
    "- decimal_to_binary`(4)` # Output: 100 (since 4 in binary is 100)\n",
    "- decimal_to_binary`(10)` # Output: 1010 (since 10 in binary is 1010)\n",
    "- decimal_to_binary`(15)` # Output: 1111 (since 15 in binary is 1111)\n",
    "- decimal_to_binary`(32)` # Output: 100000 (since 32 in binary is 100000)\n"
   ]
  },
  {
   "cell_type": "code",
   "execution_count": null,
   "metadata": {},
   "outputs": [],
   "source": []
  },
  {
   "cell_type": "markdown",
   "metadata": {},
   "source": [
    "#### 5. Flatten List:\n",
    "\n",
    "**Problem Statement:**\n",
    "\n",
    "Write a recursive function `flatten_list(n)` that flattens a nested list `n` into a single list containing all elements.\n",
    "\n",
    "**Description:**\n",
    "\n",
    "The task is to implement a recursive function `flatten_list(n)` which takes a nested list `n` and returns a flattened list where all nested elements are extracted into a single list.\n",
    "\n",
    "\n",
    "**Constraints:**\n",
    "\n",
    "- The input `n` should be a list or a nested list.\n",
    "- The function should use recursion to flatten the list.\n",
    "- The resulting list should contain all elements in a flattened structure.\n",
    "\n",
    "**Examples:**\n",
    "- flatten_list`([1, 2, 3, 4])` # Output: [1, 2, 3, 4] (since the list is already flat)\n",
    "- flatten_list`([1, [2, 3], 4])` # Output: [1, 2, 3, 4] (since the nested list is flattened)\n",
    "- flatten_list`([1, [2, [3, 4]], 5])` # Output: [1, 2, 3, 4, 5] (since the nested list is flattened)\n",
    "- flatten_list`([1, [2, [3, [4, 5]]]])` # Output: [1, 2, 3, 4, 5] (since the nested list is flattened)\n",
    "\n",
    "\n"
   ]
  },
  {
   "cell_type": "code",
   "execution_count": null,
   "metadata": {},
   "outputs": [],
   "source": []
  },
  {
   "cell_type": "markdown",
   "metadata": {},
   "source": [
    "#### 6. Palindrome:\n",
    "\n",
    "**Problem Statement:**\n",
    "\n",
    "Write a recursive function `is_palindrome(word)` that checks whether a given word is a palindrome or not.\n",
    "\n",
    "**Description:**\n",
    "\n",
    "A palindrome is a word that reads the same forwards and backwards. For example, \"madam\" and \"level\" are palindromes.\n",
    "\n",
    "The task is to implement a recursive function `is_palindrome(word)` that returns `True` if the `word` is a palindrome and `False` otherwise.\n",
    "\n",
    "**Constraints:**\n",
    "\n",
    "- The input `word` will be a string.\n",
    "- The function should use recursion to check if the word is a palindrome.\n",
    "- An empty string or a string with a single character is considered a palindrome.\n",
    "\n",
    "**Examples:**\n",
    "- is_palindrome`(\"radar\")` # Output: True (since \"radar\" is a palindrome)\n",
    "- is_palindrome`(\"little\")` # Output: False (since \"little\" is not a palindrome)\n",
    "- is_palindrome`(\"\")` # Output: True (since an empty string is a palindrome)\n",
    "- is_palindrome`(\"y\")` # Output: True (since a single character is a palindrome)\n",
    "\n",
    "\n",
    "\n",
    "\n"
   ]
  },
  {
   "cell_type": "code",
   "execution_count": null,
   "metadata": {},
   "outputs": [],
   "source": []
  }
 ],
 "metadata": {
  "language_info": {
   "name": "python"
  }
 },
 "nbformat": 4,
 "nbformat_minor": 2
}
