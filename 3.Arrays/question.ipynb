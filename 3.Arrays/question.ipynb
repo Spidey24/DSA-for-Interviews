{
 "cells": [
  {
   "cell_type": "markdown",
   "metadata": {},
   "source": [
    "#### 1. Sum of Max and Min\n",
    "\n",
    "**Problem Statement:**\n",
    "Write a python function `sum_of_max_and_min(num_list)` that takes a list of integers and returns the sum of the maximum and minimum numbers in the list.\n",
    "\n",
    "**Description:**\n",
    "You are given a list of integers. You need to find the sum of the maximum and minimum numbers in the list.\n",
    "\n",
    "**Constraints:**\n",
    "- The list will contain at least one element.\n",
    "- The list will contain at most 10^5 elements.\n",
    "- The elements of the list will be integers.\n",
    "\n",
    "**Examples:**\n",
    "```python\n",
    "sum_of_max_and_min([1, 2, 3, 4, 5]) -> 6\n",
    "sum_of_max_and_min([5, 4, 3, 2, 1]) -> 6\n",
    "sum_of_max_and_min([1, 2, 3, 4, 5, 6, 7, 8, 9, 10]) -> 11\n",
    "sum_of_max_and_min([10, 9, 8, 7, 6, 5, 4, 3, 2, 1]) -> 11\n",
    "```\n",
    "\n"
   ]
  },
  {
   "cell_type": "code",
   "execution_count": null,
   "metadata": {},
   "outputs": [],
   "source": []
  },
  {
   "cell_type": "markdown",
   "metadata": {},
   "source": [
    "#### 2. Pair Sum\n",
    "\n",
    "**Problem Statement:**\n",
    "Write a python function `pair_sum(num_list, target_sum)` that takes a list of integers and a target sum and returns a list of pairs of integers that add up to the target sum.\n",
    "\n",
    "**Description:**\n",
    "You are given a list of integers and a target sum. You need to find all pairs of integers in the list that add up to the target sum.\n",
    "\n",
    "**Constraints:**\n",
    "- The list will contain at least two element.\n",
    "- The list will contain at most 10^5 elements.\n",
    "- The elements of the list will be integers.\n",
    "- The target sum will be an integer.\n",
    "\n",
    "**Examples:**\n",
    "```python\n",
    "pair_sum([1, 2, 3, 4, 5], 6) -> [(1, 5), (2, 4)]\n",
    "pair_sum([5, 4, 3, 2, 1], 6) -> [(1, 5), (2, 4)]\n",
    "pair_sum([1, 2, 3, 4, 5, 6, 7, 8, 9, 10], 11) -> [(1, 10), (2, 9), (3, 8), (4, 7), (5, 6)]\n",
    "pair_sum([10, 9, 8, 7, 6, 5, 4, 3, 2, 1], 11) -> [(1, 10), (2, 9), (3, 8), (4, 7), (5, 6)]\n",
    "```\n"
   ]
  },
  {
   "cell_type": "code",
   "execution_count": null,
   "metadata": {},
   "outputs": [],
   "source": []
  },
  {
   "cell_type": "markdown",
   "metadata": {},
   "source": [
    "#### 3. Search Element\n",
    "\n",
    "**Problem Statement:**\n",
    "Write a python function `search_element(num_list, element)` that takes a list of integers and an element and returns the index of the element in the list.\n",
    "\n",
    "**Description:**\n",
    "You are given a list of integers and an element. You need to find the index of the element in the list.\n",
    "\n",
    "**Constraints:**\n",
    "- The list will contain at least one element.\n",
    "- The list will contain at most 10^5 elements.\n",
    "- The elements of the list will be integers.\n",
    "- If duplicate elements are present in the list, return the index of the first occurrence of the element.\n",
    "- In-built functions like index() are not allowed.\n",
    "- If the element is not present in the list, return -1.\n",
    "\n",
    "**Examples:**\n",
    "```python\n",
    "search_element([1, 2, 3, 4, 5], 3) -> 2\n",
    "search_element([5, 4, 3, 2, 1], 3) -> 3\n",
    "search_element([1, 2, 3, 4, 5, 6, 7, 8, 9, 10], 11) -> -1\n",
    "search_element([10, 1, 8, 7, 6, 5, 4, 3, 2, 1], 1) -> 1\n",
    "```"
   ]
  },
  {
   "cell_type": "code",
   "execution_count": null,
   "metadata": {},
   "outputs": [],
   "source": []
  },
  {
   "cell_type": "markdown",
   "metadata": {},
   "source": [
    "#### 4. Maximum Product \n",
    "\n",
    "**Problem Statement:**\n",
    "Write a python function `maximum_product(num_list)` that takes a list of integers and returns the maximum product of two integers in the list.\n",
    "\n",
    "**Description:**\n",
    "You are given a list of integers. You need to find the maximum product of two integers in the list.\n",
    "\n",
    "**Constraints:**\n",
    "- The list will contain at least two element.\n",
    "- The list will contain at most 10^5 elements.\n",
    "- The elements of the list will be integers.\n",
    "\n",
    "**Examples:**\n",
    "```python\n",
    "maximum_product([1, 2, 3, 4, 5]) -> 20\n",
    "maximum_product([5, 4, 3, 2, 1]) -> 20\n",
    "maximum_product([1, 2, 3, 4, 5, 6, 7, 8, 9, 10]) -> 90\n",
    "maximum_product([10,2,3,4,5,6,7,8,9,10]) -> 100\n",
    "```"
   ]
  },
  {
   "cell_type": "code",
   "execution_count": null,
   "metadata": {},
   "outputs": [],
   "source": []
  },
  {
   "cell_type": "markdown",
   "metadata": {},
   "source": [
    "#### 5. Find Duplicates\n",
    "\n",
    "**Problem Statement:**\n",
    "Write a python function `find_duplicates(num_list)` that takes a list of integers and returns a list of duplicate integers in the list.\n",
    "\n",
    "**Description:**\n",
    "You are given a list of integers. You need to find all the duplicate integers in the list.\n",
    "\n",
    "**Constraints:**\n",
    "- The list will contain at least two element.\n",
    "- The list will contain at most 10^5 elements.\n",
    "- The elements of the list will be integers.\n",
    "- If duplicate elements are present in the list, return the duplicate elements in the order they appear in the list.\n",
    "- If no duplicate elements are present in the list, return an empty list.\n",
    "\n",
    "**Examples:**\n",
    "```python\n",
    "find_duplicates([1, 2, 3, 4, 5]) -> []\n",
    "find_duplicates([5, 4, 3, 2, 5]) -> [5]\n",
    "find_duplicates([1, 2, 2, 4, 5, 5, 4, 8, 9, 10]) -> [2, 5, 4]\n",
    "```"
   ]
  },
  {
   "cell_type": "code",
   "execution_count": null,
   "metadata": {},
   "outputs": [],
   "source": []
  },
  {
   "cell_type": "markdown",
   "metadata": {},
   "source": [
    "#### 6. Permutations\n",
    "\n",
    "**Problem Statement:**\n",
    "Write a python function `permutations(num_list1,num_list2)` that takes two lists of integers and returns true if the second list is a permutation of the first list.\n",
    "\n",
    "**Description:**\n",
    "You are given two lists of integers. You need to find if the second list is a permutation of the first list.\n",
    "\n",
    "**Constraints:**\n",
    "- The lists will contain at least one element.\n",
    "- The lists will contain at most 10^5 elements.\n",
    "- The elements of the lists will be integers.\n",
    "- If the second list is a permutation of the first list, return True. Otherwise, return False.\n",
    "\n",
    "**Examples:**\n",
    "```python\n",
    "permutations([1, 2, 3, 4, 5], [5, 4, 3, 2, 1]) -> True\n",
    "permutations([1, 2, 3, 4, 5], [5, 4, 3, 2, 5]) -> False\n",
    "permutations([1, 2, 3, 4, 5], [1, 2, 3, 4, 5, 6]) -> False\n",
    "permutations([10, 2, 3, 4], [10, 2, 3, 4]) -> True\n",
    "```"
   ]
  },
  {
   "cell_type": "code",
   "execution_count": null,
   "metadata": {},
   "outputs": [],
   "source": []
  },
  {
   "cell_type": "markdown",
   "metadata": {},
   "source": [
    "#### 7. Rotate Matrix\n",
    "\n",
    "**Problem Statement:**\n",
    "Write a python function `rotate_matrix(matrix)` that takes a square matrix of integers and rotates it by 90 degrees.\n",
    "\n",
    "**Description:**\n",
    "You are given a square matrix of integers. You need to rotate the matrix by 90 degrees.\n",
    "\n",
    "**Constraints:**\n",
    "- The matrix will contain at least one element.\n",
    "- The matrix will contain at most 10^5 elements.\n",
    "- The elements of the matrix will be integers.\n",
    "- The matrix will be a square matrix.\n",
    "\n",
    "**Examples:**\n",
    "```python\n",
    "rotate_matrix([[1, 2, 3], [4, 5, 6], [7, 8, 9]]) -> [[7, 4, 1], [8, 5, 2], [9, 6, 3]]\n",
    "rotate_matrix([[1, 2, 3, 4], [5, 6, 7, 8], [9, 10, 11, 12], [13, 14, 15, 16]]) -> [[13, 9, 5, 1], [14, 10, 6, 2], [15, 11, 7, 3], [16, 12, 8, 4]]\n",
    "rotate_matrix([[1, 2], [3, 4]]) -> [[3, 1], [4, 2]]\n",
    "```"
   ]
  },
  {
   "cell_type": "code",
   "execution_count": null,
   "metadata": {},
   "outputs": [],
   "source": []
  }
 ],
 "metadata": {
  "kernelspec": {
   "display_name": "Python 3",
   "language": "python",
   "name": "python3"
  },
  "language_info": {
   "codemirror_mode": {
    "name": "ipython",
    "version": 3
   },
   "file_extension": ".py",
   "mimetype": "text/x-python",
   "name": "python",
   "nbconvert_exporter": "python",
   "pygments_lexer": "ipython3",
   "version": "3.11.7"
  }
 },
 "nbformat": 4,
 "nbformat_minor": 2
}
