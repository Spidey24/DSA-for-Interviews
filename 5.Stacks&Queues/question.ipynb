{
 "cells": [
  {
   "cell_type": "markdown",
   "metadata": {},
   "source": [
    "### STACKS\n",
    "---"
   ]
  },
  {
   "cell_type": "markdown",
   "metadata": {},
   "source": [
    "#### 1. Reverse a string using stack\n",
    "\n",
    "**Problem Statement:**\n",
    "Write a python function `reverse_string(string)` that takes a string as input and returns the reverse of the string using stack.\n",
    "\n",
    "**Description:**\n",
    "You are given a string. You need to use stack operations to reverse the string.\n",
    "\n",
    "**Constraints:**\n",
    "- The string will contain at most 10^5 characters.\n",
    "- The string will contain at least one character.\n",
    "- The string will contain only lowercase and uppercase alphabets.\n",
    "\n",
    "**Examples:**\n",
    "```python\n",
    "reverse_string(\"hello\") -> \"olleh\"\n",
    "reverse_string(\"world\") -> \"dlrow\"\n",
    "reverse_string(\"Python\") -> \"nohtyP\"\n",
    "reverse_string(\"Stacks\") -> \"skcatS\"\n",
    "```"
   ]
  },
  {
   "cell_type": "code",
   "execution_count": null,
   "metadata": {},
   "outputs": [],
   "source": []
  },
  {
   "cell_type": "markdown",
   "metadata": {},
   "source": [
    "#### 2.Prefix to Postfix conversion\n",
    "\n",
    "**Problem Statement:**\n",
    "Write a python function `prefix_to_postfix(expression)` that takes a prefix expression as input and returns the equivalent postfix expression.\n",
    "\n",
    "**Description:**\n",
    "- Prefix notation is a way to write expressions where the operator comes before the operands. \n",
    "    -    [_Example: +AB_]\n",
    "- Postfix notation is a way to write expressions where the operator comes after the operands. \n",
    "    -   [_Example: AB+_]\n",
    "- You need to convert the given prefix expression to postfix expression.\n",
    "\n",
    "**Constraints:**\n",
    "- The expression will contain at most 10^5 characters.\n",
    "- The expression will contain at least one character.\n",
    "- The expression will contain only lowercase and uppercase alphabets and operators (+, -, *, /).\n",
    "\n",
    "**Examples:**\n",
    "```python\n",
    "prefix_to_postfix(\"+AB\") -> \"AB+\"\n",
    "prefix_to_postfix(\"*+AB-CD\") -> \"AB+CD-*\"\n",
    "prefix_to_postfix(\"++A*BCD\") -> \"ABC*+D+\"\n",
    "prefix_to_postfix(\"++A*BCD\") -> \"ABC*+D+\"\n",
    "```\n"
   ]
  },
  {
   "cell_type": "code",
   "execution_count": null,
   "metadata": {},
   "outputs": [],
   "source": []
  },
  {
   "cell_type": "markdown",
   "metadata": {},
   "source": [
    "#### 3. The Stock Span Problem\n",
    "\n",
    "**Problem Statement:**\n",
    "Write a python function `stock_span(price)` that takes a list of integers as input and returns a list of integers as output. The output list will contain the span of the stock's price for each day.\n",
    "\n",
    "**Description:**\n",
    "- The span of the stock's price today is defined as the maximum number of consecutive days (starting from today and going backward) for which the stock price was less than or equal to today's price.\n",
    "- You need to calculate the span of the stock's price for each day.\n",
    "\n",
    "**Constraints:**\n",
    "- The list will contain at most 10^5 integers.\n",
    "- The list will contain at least one integer.\n",
    "- The integers will be positive integers.\n",
    "\n",
    "**Examples:**\n",
    "```plaintext\n",
    "    Input: N = 7, price[] = [100 80 60 70 60 75 85]\n",
    "    Output: 1 1 1 2 1 4 6\n",
    "    Explanation: Traversing the given input span for 100 will be 1, 80 is smaller than 100 so the span is 1, 60 is smaller than 80 so the span is 1, 70 is greater than 60 so the span is 2 and so on. Hence the output will be 1 1 1 2 1 4 6.\n",
    "\n",
    "    Input: N = 6, price[] = [10 4 5 90 120 80]\n",
    "    Output:1 1 2 4 5 1\n",
    "    Explanation: Traversing the given input span for 10 will be 1, 4 is smaller than 10 so the span will be 1, 5 is greater than 4 so the span will be 2 and so on. Hence, the output will be 1 1 2 4 5 1.\n",
    "\n",
    "```"
   ]
  },
  {
   "cell_type": "code",
   "execution_count": null,
   "metadata": {},
   "outputs": [],
   "source": []
  },
  {
   "cell_type": "markdown",
   "metadata": {},
   "source": [
    "### Queues\n",
    "---"
   ]
  },
  {
   "cell_type": "markdown",
   "metadata": {},
   "source": [
    "#### 1. Reverse the first K elements of a queue\n",
    "\n",
    "**Problem Statement:**\n",
    "Write a python function `reverse_k_elements(queue, k)` that takes a queue and an integer k as input and returns the queue after reversing the first k elements.\n",
    "\n",
    "**Description:**\n",
    "- You are given a queue and an integer k.\n",
    "- You need to reverse the first k elements of the queue.\n",
    "- The remaining elements of the queue should be in the same order.\n",
    "\n",
    "**Constraints:**\n",
    "- The queue will contain at most 10^5 elements.\n",
    "- The operations allowed on the queue are enqueue, dequeue, and is_empty.\n",
    "- The integer k will be less than or equal to the number of elements in the queue.\n",
    "\n",
    "**Examples:**\n",
    "```python\n",
    "reverse_k_elements([1, 2, 3, 4, 5], 3) -> [3, 2, 1, 4, 5]\n",
    "reverse_k_elements([10, 20, 30, 40, 50, 60], 5) -> [50, 40, 30, 20, 10, 60]\n",
    "reverse_k_elements([1, 2, 3, 4, 5], 5) -> [5, 4, 3, 2, 1]\n",
    "```"
   ]
  },
  {
   "cell_type": "code",
   "execution_count": null,
   "metadata": {},
   "outputs": [],
   "source": []
  },
  {
   "cell_type": "markdown",
   "metadata": {},
   "source": [
    "#### 2. Design a Queue such that get minimum element in O(1) time\n",
    "\n",
    "**Problem Statement:**\n",
    "Write a python class `MinQueue` that represents a queue and supports the following operations:\n",
    "- `enqueue(element)`: Add an element to the queue.\n",
    "- `dequeue()`: Remove and return the element from the front of the queue.\n",
    "- `get_min()`: Return the minimum element from the queue in O(1) time.\n",
    "\n",
    "**Description:**\n",
    "- You need to design a queue that supports the above operations.\n",
    "- The queue should have the following methods:\n",
    "    - `enqueue(element)`: Add an element to the queue.\n",
    "    - `dequeue()`: Remove and return the element from the front of the queue.\n",
    "    - `get_min()`: Return the minimum element from the queue in O(1) time.\n",
    "- The queue should support the above operations in O(1) time.\n",
    "\n",
    "**Constraints:**\n",
    "- The queue will contain at most 10^5 elements.\n",
    "- The operations allowed on the queue are enqueue, dequeue, and get_min.\n",
    "- The elements in the queue will be positive integers only.\n",
    "\n",
    "**Examples:**\n",
    "```python\n",
    "q = MinQueue()\n",
    "q.enqueue(10)\n",
    "q.enqueue(20)\n",
    "q.enqueue(30)\n",
    "q.enqueue(5)\n",
    "q.get_min() -> 5\n",
    "q.dequeue()\n",
    "q.get_min() -> 10\n",
    "q.dequeue()\n",
    "q.get_min() -> 10\n",
    "``` "
   ]
  },
  {
   "cell_type": "code",
   "execution_count": null,
   "metadata": {},
   "outputs": [],
   "source": []
  },
  {
   "cell_type": "markdown",
   "metadata": {},
   "source": [
    "#### 3.Reverse a Queue using recursion\n",
    "\n",
    "**Problem Statement:**\n",
    "Write a python function `reverse_queue(queue)` that takes a queue as input and returns the queue after reversing it using recursion only.\n",
    "\n",
    "**Description:**\n",
    "You are given a queue. You need to reverse the queue using recursion only.\n",
    "\n",
    "**Constraints:**\n",
    "- The queue will contain at most 10^5 elements.\n",
    "- The operations allowed on the queue are enqueue, dequeue, and is_empty.\n",
    "- The elements in the queue will be positive integers only.\n",
    "- Recursion should be used to reverse the queue.\n",
    "\n",
    "**Examples:**\n",
    "```python\n",
    "reverse_queue([1, 2, 3, 4, 5]) -> [5, 4, 3, 2, 1]\n",
    "reverse_queue([10, 20, 30, 40, 50]) -> [50, 40, 30, 20, 10]\n",
    "reverse_queue([5, 4, 3, 2, 1]) -> [1, 2, 3, 4, 5]\n",
    "```\n"
   ]
  },
  {
   "cell_type": "code",
   "execution_count": null,
   "metadata": {},
   "outputs": [],
   "source": []
  }
 ],
 "metadata": {
  "language_info": {
   "name": "python"
  }
 },
 "nbformat": 4,
 "nbformat_minor": 2
}
