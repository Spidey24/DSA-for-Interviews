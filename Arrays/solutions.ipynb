{
 "cells": [
  {
   "cell_type": "markdown",
   "metadata": {},
   "source": [
    "#### 1. Sum of Max and Min\n",
    "\n",
    "**Problem Statement:**\n",
    "Write a python function `sum_of_max_and_min(num_list)` that takes a list of integers and returns the sum of the maximum and minimum numbers in the list.\n",
    "\n",
    "**Description:**\n",
    "You are given a list of integers. You need to find the sum of the maximum and minimum numbers in the list.\n",
    "\n",
    "**Constraints:**\n",
    "- The list will contain at least one element.\n",
    "- The list will contain at most 10^5 elements.\n",
    "- The elements of the list will be integers.\n",
    "\n",
    "**Examples:**\n",
    "```python\n",
    "sum_of_max_and_min([1, 2, 3, 4, 5]) -> 6\n",
    "sum_of_max_and_min([5, 4, 3, 2, 1]) -> 6\n",
    "sum_of_max_and_min([1, 2, 3, 4, 5, 6, 7, 8, 9, 10]) -> 11\n",
    "sum_of_max_and_min([10, 9, 8, 7, 6, 5, 4, 3, 2, 1]) -> 11\n",
    "```\n",
    "\n"
   ]
  },
  {
   "cell_type": "code",
   "execution_count": 14,
   "metadata": {},
   "outputs": [
    {
     "name": "stdout",
     "output_type": "stream",
     "text": [
      "6\n",
      "-----------------\n",
      "6\n",
      "-----------------\n",
      "11\n",
      "-----------------\n",
      "11\n"
     ]
    }
   ],
   "source": [
    "# Solultion 1\n",
    "def sum_of_max_and_min(num_list):\n",
    "    max_num = float('-inf')\n",
    "    min_num = float('inf')\n",
    "    for num in num_list:\n",
    "        if num > max_num:\n",
    "            max_num = num\n",
    "        if num < min_num:\n",
    "            min_num = num\n",
    "    return max_num + min_num\n",
    "\n",
    "    # return max(num_list) + min(num_list) If in-built functions are allowed\n",
    "\n",
    "    \n",
    "\n",
    "# Test cases\n",
    "print(sum_of_max_and_min([1, 2, 3, 4, 5])) \n",
    "print('-----------------')\n",
    "print(sum_of_max_and_min([5, 4, 3, 2, 1])) \n",
    "print('-----------------')\n",
    "print(sum_of_max_and_min([1, 2, 3, 4, 5, 6, 7, 8, 9, 10]))\n",
    "print('-----------------')\n",
    "print(sum_of_max_and_min([10, 9, 8, 7, 6, 5, 4, 3, 2, 1]))"
   ]
  },
  {
   "cell_type": "markdown",
   "metadata": {},
   "source": [
    "#### 2. Pair Sum\n",
    "\n",
    "**Problem Statement:**\n",
    "Write a python function `pair_sum(num_list, target_sum)` that takes a list of integers and a target sum and returns a list of pairs of integers that add up to the target sum.\n",
    "\n",
    "**Description:**\n",
    "You are given a list of integers and a target sum. You need to find all pairs of integers in the list that add up to the target sum.\n",
    "\n",
    "**Constraints:**\n",
    "- The list will contain at least two element.\n",
    "- The list will contain at most 10^5 elements.\n",
    "- The elements of the list will be integers.\n",
    "- The target sum will be an integer.\n",
    "\n",
    "**Examples:**\n",
    "```python\n",
    "pair_sum([1, 2, 3, 4, 5], 6) -> [(1, 5), (2, 4)]\n",
    "pair_sum([5, 4, 3, 2, 1], 6) -> [(1, 5), (2, 4)]\n",
    "pair_sum([1, 2, 3, 4, 5, 6, 7, 8, 9, 10], 11) -> [(1, 10), (2, 9), (3, 8), (4, 7), (5, 6)]\n",
    "pair_sum([10, 9, 8, 7, 6, 5, 4, 3, 2, 1], 11) -> [(1, 10), (2, 9), (3, 8), (4, 7), (5, 6)]\n",
    "```\n"
   ]
  },
  {
   "cell_type": "code",
   "execution_count": 3,
   "metadata": {},
   "outputs": [
    {
     "name": "stdout",
     "output_type": "stream",
     "text": [
      "[(1, 5), (2, 4)]\n",
      "-----------------\n",
      "[(5, 1), (4, 2)]\n",
      "-----------------\n",
      "[(1, 10), (2, 9), (3, 8), (4, 7), (5, 6)]\n",
      "-----------------\n",
      "[(10, 1), (9, 2), (8, 3), (7, 4), (6, 5)]\n"
     ]
    }
   ],
   "source": [
    "# Solution 2 \n",
    "def pair_sum(num_list,target_sum):\n",
    "    pair_sum = []\n",
    "    for i in range(len(num_list)):\n",
    "        for j in range(i+1,len(num_list)):\n",
    "            if num_list[i] + num_list[j] == target_sum:\n",
    "                pair_sum.append((num_list[i],num_list[j]))\n",
    "    return pair_sum\n",
    "\n",
    "# Test cases\n",
    "print(pair_sum([1, 2, 3, 4, 5], 6))\n",
    "print('-----------------')\n",
    "print(pair_sum([5, 4, 3, 2, 1], 6))\n",
    "print('-----------------')\n",
    "print(pair_sum([1, 2, 3, 4, 5, 6, 7, 8, 9, 10], 11))\n",
    "print('-----------------')\n",
    "print(pair_sum([10, 9, 8, 7, 6, 5, 4, 3, 2, 1], 11))\n"
   ]
  },
  {
   "cell_type": "markdown",
   "metadata": {},
   "source": [
    "#### 3. Search Element\n",
    "\n",
    "**Problem Statement:**\n",
    "Write a python function `search_element(num_list, element)` that takes a list of integers and an element and returns the index of the element in the list.\n",
    "\n",
    "**Description:**\n",
    "You are given a list of integers and an element. You need to find the index of the element in the list.\n",
    "\n",
    "**Constraints:**\n",
    "- The list will contain at least one element.\n",
    "- The list will contain at most 10^5 elements.\n",
    "- The elements of the list will be integers.\n",
    "- If duplicate elements are present in the list, return the index of the first occurrence of the element.\n",
    "- In-built functions like index() are not allowed.\n",
    "- If the element is not present in the list, return -1.\n",
    "\n",
    "**Examples:**\n",
    "```python\n",
    "search_element([1, 2, 3, 4, 5], 3) -> 2\n",
    "search_element([5, 4, 3, 2, 1], 1) -> 4\n",
    "search_element([1, 2, 3, 4, 5, 6, 7, 8, 9, 10], 11) -> -1\n",
    "search_element([10, 1, 8, 7, 6, 5, 4, 3, 2, 1], 1) -> 1\n",
    "```"
   ]
  },
  {
   "cell_type": "code",
   "execution_count": 6,
   "metadata": {},
   "outputs": [
    {
     "name": "stdout",
     "output_type": "stream",
     "text": [
      "2\n",
      "-----------------\n",
      "4\n",
      "-----------------\n",
      "-1\n",
      "-----------------\n",
      "1\n"
     ]
    }
   ],
   "source": [
    "# Solution 3\n",
    "def search_element(num_list,element):\n",
    "    if element not in num_list:\n",
    "        return -1\n",
    "    else:\n",
    "        for i in range(len(num_list)):\n",
    "            if num_list[i] == element:\n",
    "                 return i\n",
    "\n",
    "# Test cases\n",
    "print(search_element([1, 2, 3, 4, 5], 3))\n",
    "print('-----------------')\n",
    "print(search_element([5, 4, 3, 2, 1], 1))\n",
    "print('-----------------')\n",
    "print(search_element([1, 2, 3, 4, 5, 6, 7, 8, 9, 10], 11))\n",
    "print('-----------------')\n",
    "print(search_element([10, 1, 8, 7, 6, 5, 4, 3, 2, 1], 1))\n",
    "\n"
   ]
  },
  {
   "cell_type": "markdown",
   "metadata": {},
   "source": [
    "#### 4. Maximum Product \n",
    "\n",
    "**Problem Statement:**\n",
    "Write a python function `maximum_product(num_list)` that takes a list of integers and returns the maximum product of two integers in the list.\n",
    "\n",
    "**Description:**\n",
    "You are given a list of integers. You need to find the maximum product of two integers in the list.\n",
    "\n",
    "**Constraints:**\n",
    "- The list will contain at least two element.\n",
    "- The list will contain at most 10^5 elements.\n",
    "- The elements of the list will be integers.\n",
    "- In-built functions like max() are not allowed.\n",
    "\n",
    "**Examples:**\n",
    "```python\n",
    "maximum_product([1, 2, 3, 4, 5]) -> 20\n",
    "maximum_product([5, 4, 3, 2, 1]) -> 20\n",
    "maximum_product([1, 2, 3, 4, 5, 6, 7, 8, 9, 10]) -> 90\n",
    "maximum_product([10,2,3,4,5,6,7,8,9,10]) -> 100\n",
    "```"
   ]
  },
  {
   "cell_type": "code",
   "execution_count": 7,
   "metadata": {},
   "outputs": [
    {
     "name": "stdout",
     "output_type": "stream",
     "text": [
      "20\n",
      "-----------------\n",
      "20\n",
      "-----------------\n",
      "90\n",
      "-----------------\n",
      "100\n"
     ]
    }
   ],
   "source": [
    "# Solution 4\n",
    "def maximum_product(num_list):\n",
    "    # Initialize max1 and max2\n",
    "    max1 = float('-inf')\n",
    "    max2 = float('-inf')\n",
    "    \n",
    "    # Traverse the list to find max1 and max2\n",
    "    for num in num_list:\n",
    "        if num > max1:\n",
    "            max2 = max1\n",
    "            max1 = num\n",
    "        elif num > max2:\n",
    "            max2 = num\n",
    "    \n",
    "    # Calculate maximum product of two numbers\n",
    "    max_product = max1 * max2\n",
    "    \n",
    "    # Return the maximum product\n",
    "    return max_product\n",
    "\n",
    "# Test cases\n",
    "print(maximum_product([1, 2, 3, 4, 5]))\n",
    "print('-----------------')\n",
    "print(maximum_product([5, 4, 3, 2, 1]))\n",
    "print('-----------------')\n",
    "print(maximum_product([1, 2, 3, 4, 5, 6, 7, 8, 9, 10]))\n",
    "print('-----------------')\n",
    "print(maximum_product([10, 9, 8, 7, 6, 5, 4, 3, 2, 10]))\n",
    "\n",
    "    "
   ]
  },
  {
   "cell_type": "markdown",
   "metadata": {},
   "source": [
    "#### 5. Find Duplicates\n",
    "\n",
    "**Problem Statement:**\n",
    "Write a python function `find_duplicates(num_list)` that takes a list of integers and returns a list of duplicate integers in the list.\n",
    "\n",
    "**Description:**\n",
    "You are given a list of integers. You need to find all the duplicate integers in the list.\n",
    "\n",
    "**Constraints:**\n",
    "- The list will contain at least two element.\n",
    "- The list will contain at most 10^5 elements.\n",
    "- The elements of the list will be integers.\n",
    "- If duplicate elements are present in the list, return the duplicate elements in a list.\n",
    "- If no duplicate elements are present in the list, return an empty list.\n",
    "\n",
    "**Examples:**\n",
    "```python\n",
    "find_duplicates([1, 2, 3, 4, 5]) -> []\n",
    "find_duplicates([5, 4, 3, 2, 5]) -> [5]\n",
    "find_duplicates([1, 2, 2, 4, 5, 5, 4, 8, 9, 10]) -> [2, 4, 5]\n",
    "```"
   ]
  },
  {
   "cell_type": "code",
   "execution_count": 9,
   "metadata": {},
   "outputs": [
    {
     "name": "stdout",
     "output_type": "stream",
     "text": [
      "[]\n",
      "-----------------\n",
      "[5]\n",
      "-----------------\n",
      "[2, 4, 5]\n",
      "-----------------\n"
     ]
    }
   ],
   "source": [
    "# Solution 5\n",
    "def find_duplicates(num_list):\n",
    "    duplicates = []\n",
    "    for i in range(len(num_list)):\n",
    "        for j in range(i+1,len(num_list)):\n",
    "            if num_list[i] == num_list[j]:\n",
    "                duplicates.append(num_list[i])\n",
    "    return list((duplicates))\n",
    "\n",
    "# Test cases\n",
    "print(find_duplicates([1, 2, 3, 4, 5]))\n",
    "print('-----------------')\n",
    "print(find_duplicates([5, 4, 3, 2, 5]))\n",
    "print('-----------------')\n",
    "print(find_duplicates([1, 2, 2, 4, 5, 5, 4, 8, 9, 10]))\n",
    "print('-----------------')"
   ]
  },
  {
   "cell_type": "markdown",
   "metadata": {},
   "source": [
    "#### 6. Permutations\n",
    "\n",
    "**Problem Statement:**\n",
    "Write a python function `permutations(num_list1,num_list2)` that takes two lists of integers and returns true if the second list is a permutation of the first list.\n",
    "\n",
    "**Description:**\n",
    "You are given two lists of integers. You need to find if the second list is a permutation of the first list.\n",
    "\n",
    "**Constraints:**\n",
    "- The lists will contain at least one element.\n",
    "- The lists will contain at most 10^5 elements.\n",
    "- The elements of the lists will be integers.\n",
    "- If the second list is a permutation of the first list, return True. Otherwise, return False.\n",
    "\n",
    "**Examples:**\n",
    "```python\n",
    "permutations([1, 2, 3, 4, 5], [5, 4, 3, 2, 1]) -> True\n",
    "permutations([1, 2, 3, 4, 5], [5, 4, 3, 2, 5]) -> False\n",
    "permutations([1, 2, 3, 4, 5], [1, 2, 3, 4, 5, 6]) -> False\n",
    "permutations([10, 2, 3, 4], [10, 2, 3, 4]) -> True\n",
    "```"
   ]
  },
  {
   "cell_type": "code",
   "execution_count": 11,
   "metadata": {},
   "outputs": [
    {
     "name": "stdout",
     "output_type": "stream",
     "text": [
      "True\n",
      "-----------------\n",
      "False\n",
      "-----------------\n",
      "False\n",
      "-----------------\n",
      "True\n",
      "-----------------\n"
     ]
    }
   ],
   "source": [
    "# Solution 6\n",
    "def permutations(num_list1,num_list2):\n",
    "    if len(num_list1) != len(num_list2):\n",
    "        return False\n",
    "    else:\n",
    "        num_list1.sort()\n",
    "        num_list2.sort()\n",
    "        if num_list1 == num_list2:\n",
    "            return True\n",
    "        else:\n",
    "            return False\n",
    "\n",
    "# Test cases\n",
    "print(permutations([1, 2, 3, 4, 5], [5, 4, 3, 2, 1]))\n",
    "print('-----------------')\n",
    "print(permutations([1, 2, 3, 4, 5], [5, 4, 3, 2, 5]))\n",
    "print('-----------------')\n",
    "print(permutations([1, 2, 3, 4, 5], [1, 2, 3, 4, 5, 6]))\n",
    "print('-----------------')\n",
    "print(permutations([10, 2, 3, 4], [10, 2, 3, 4]))\n",
    "print('-----------------')"
   ]
  },
  {
   "cell_type": "markdown",
   "metadata": {},
   "source": [
    "#### 7. Rotate Matrix\n",
    "\n",
    "**Problem Statement:**\n",
    "Write a python function `rotate_matrix(matrix)` that takes a square matrix of integers and rotates it by 90 degrees.\n",
    "\n",
    "**Description:**\n",
    "You are given a square matrix of integers. You need to rotate the matrix by 90 degrees.\n",
    "\n",
    "**Constraints:**\n",
    "- The matrix will contain at least one element.\n",
    "- The matrix will contain at most 10^5 elements.\n",
    "- The elements of the matrix will be integers.\n",
    "- The matrix will be a square matrix.\n",
    "\n",
    "**Examples:**\n",
    "```python\n",
    "rotate_matrix([[1, 2, 3], [4, 5, 6], [7, 8, 9]]) -> [[7, 4, 1], [8, 5, 2], [9, 6, 3]]\n",
    "rotate_matrix([[1, 2, 3, 4], [5, 6, 7, 8], [9, 10, 11, 12], [13, 14, 15, 16]]) -> [[13, 9, 5, 1], [14, 10, 6, 2], [15, 11, 7, 3], [16, 12, 8, 4]]\n",
    "rotate_matrix([[1, 2], [3, 4]]) -> [[3, 1], [4, 2]]\n",
    "```"
   ]
  },
  {
   "cell_type": "code",
   "execution_count": 15,
   "metadata": {},
   "outputs": [
    {
     "name": "stdout",
     "output_type": "stream",
     "text": [
      "[[7, 4, 1], [8, 5, 2], [9, 6, 3]]\n",
      "-----------------\n",
      "[[13, 9, 5, 1], [14, 10, 6, 2], [15, 11, 7, 3], [16, 12, 8, 4]]\n",
      "-----------------\n",
      "[[3, 1], [4, 2]]\n"
     ]
    }
   ],
   "source": [
    "# Solution 7\n",
    "\n",
    "def rotate_matrix(matrix):\n",
    "    n = len(matrix)\n",
    "    \n",
    "    # Step 1: Transpose the matrix\n",
    "    for i in range(n):\n",
    "        for j in range(i + 1, n):\n",
    "            # Swap matrix[i][j] with matrix[j][i]\n",
    "            matrix[i][j], matrix[j][i] = matrix[j][i], matrix[i][j]\n",
    "    \n",
    "    # Step 2: Reverse each row\n",
    "    for i in range(n):\n",
    "        matrix[i].reverse()\n",
    "    \n",
    "    return matrix\n",
    "\n",
    "# Test cases\n",
    "print(rotate_matrix([[1, 2, 3], [4, 5, 6], [7, 8, 9]]))\n",
    "print('-----------------')\n",
    "print(rotate_matrix([[1, 2, 3, 4], [5, 6, 7, 8], [9, 10, 11, 12], [13, 14, 15, 16]]))\n",
    "print('-----------------')\n",
    "print(rotate_matrix([[1, 2], [3, 4]]))"
   ]
  }
 ],
 "metadata": {
  "kernelspec": {
   "display_name": "Python 3",
   "language": "python",
   "name": "python3"
  },
  "language_info": {
   "codemirror_mode": {
    "name": "ipython",
    "version": 3
   },
   "file_extension": ".py",
   "mimetype": "text/x-python",
   "name": "python",
   "nbconvert_exporter": "python",
   "pygments_lexer": "ipython3",
   "version": "3.11.7"
  }
 },
 "nbformat": 4,
 "nbformat_minor": 2
}
