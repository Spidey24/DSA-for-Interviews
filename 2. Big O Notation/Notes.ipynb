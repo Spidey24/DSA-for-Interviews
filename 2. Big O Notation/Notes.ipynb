{
 "cells": [
  {
   "cell_type": "markdown",
   "metadata": {},
   "source": [
    "# Understanding Space Complexity and Time Complexity\n",
    "---\n",
    "## Space Complexity\n",
    "\n",
    "Space complexity refers to the amount of memory space required by an algorithm to solve a problem as a function of the input size. It measures the maximum amount of memory space used by an algorithm at any point during its execution.\n",
    "\n",
    "### Real-Life Example: Packing for a Hiking Trip\n",
    "\n",
    "Imagine you are packing items into a backpack for a hiking trip. The space complexity would be similar to the total volume or capacity of the backpack needed to fit all the items. In computer science, space complexity quantifies the memory required by an algorithm to complete its task efficiently. For example, when an algorithm processes a large dataset, it needs enough memory space to store and manipulate the data.\n",
    "\n",
    "## Time Complexity\n",
    "\n",
    "Time complexity refers to the amount of time or number of operations an algorithm requires to solve a problem as a function of the input size. It measures the efficiency of an algorithm in terms of the time taken to execute various operations.\n",
    "\n",
    "### Real-Life Example: Searching for a Book in a Library\n",
    "\n",
    "Consider the task of searching for a specific book in a library. The time complexity would be similar to the number of steps or operations required to find the book among the shelves. In computer science, time complexity provides insights into the efficiency of algorithms when dealing with different input sizes. For instance, when implementing a search algorithm, such as finding a particular value in a large dataset, the time complexity determines how quickly the algorithm can locate the desired information.\n",
    "\n",
    "### Relationship between Space and Time Complexity\n",
    "- Space Complexity: Measures the amount of memory used by an algorithm.\n",
    "- Time Complexity: Measures the number of operations performed by an algorithm.\n",
    "\n",
    "---\n"
   ]
  },
  {
   "cell_type": "markdown",
   "metadata": {},
   "source": [
    "## Big O Notation\n",
    "\n",
    "Big O notation is used to describe the upper bound or worst-case scenario of the time or space complexity of an algorithm. It provides a standardized way to compare algorithms and their scalability.\n",
    "\n",
    "### Common Types of Big O Notation\n",
    "\n",
    "1. **O(1) - Constant Time Complexity**:\n",
    "   - Represents algorithms with constant time complexity, where the execution time or space used is independent of the input size. This is like directly accessing an item you know the location of, such as grabbing a cup from a cupboard.\n",
    "\n",
    "2. **O(log n) - Logarithmic Time Complexity**:\n",
    "   - Represents algorithms that reduce the problem size by a fraction in each step, similar to using binary search to quickly find a book in a sorted library.\n",
    "\n",
    "3. **O(n) - Linear Time Complexity**:\n",
    "   - Represents algorithms where the execution time or space used grows linearly with the input size. For instance, iterating through a list to perform a task for each item.\n",
    "\n",
    "4. **O(n^2) - Quadratic Time Complexity**:\n",
    "   - Represents algorithms where the execution time or space used grows quadratically with the input size. This is like nested loops where each loop iterates over the input size.\n",
    "\n",
    "5. **O(2^n) - Exponential Time Complexity**:\n",
    "   - Represents algorithms where the execution time or space used grows exponentially with the input size. For example, recursive algorithms that repeatedly break down problems into smaller instances.\n",
    "\n",
    "6. **O(n!) - Factorial Time Complexity**:\n",
    "   - Represents algorithms where the execution time or space used grows factorially with the input size, such as generating all permutations of a set of items.\n",
    "\n",
    "* Understanding Big O notation helps in assessing the scalability and efficiency of algorithms, guiding the selection of appropriate algorithms for different problem sizes and constraints in the computer world.\n",
    "---\n",
    "### Different Big O Notations: Real-Life Examples\n",
    "\n",
    "#### O(1) - Constant Time Complexity\n",
    "\n",
    "- **Real-Life Example**: Fetching an item from a drawer where you know the exact location without needing to search.\n",
    "- **Computer World Analogy**: Accessing an element in an array using its index.\n",
    "\n",
    "#### O(log n) - Logarithmic Time Complexity\n",
    "\n",
    "- **Real-Life Example**: Finding a name in a phone book by repeatedly dividing the search space.\n",
    "- **Computer World Analogy**: Performing binary search on a sorted list to locate a specific item efficiently.\n",
    "\n",
    "#### O(n) - Linear Time Complexity\n",
    "\n",
    "- **Real-Life Example**: Checking each book in a library to find a specific title.\n",
    "- **Computer World Analogy**: Iterating through an array to find a particular value.\n",
    "\n",
    "#### O(n^2) - Quadratic Time Complexity\n",
    "\n",
    "- **Real-Life Example**: Comparing every pair of guests at a party to see if they know each other.\n",
    "- **Computer World Analogy**: Using nested loops to compare elements in a 2D array.\n",
    "\n",
    "#### O(2^n) - Exponential Time Complexity\n",
    "\n",
    "- **Real-Life Example**: Enumerating all possible combinations to crack a password.\n",
    "- **Computer World Analogy**: Solving the Tower of Hanoi puzzle with a recursive approach.\n",
    "\n",
    "#### O(n!) - Factorial Time Complexity\n",
    "\n",
    "- **Real-Life Example**: Generating all possible seating arrangements for guests at a large event.\n",
    "- **Computer World Analogy**: Finding all permutations of a set of elements.\n",
    "---"
   ]
  },
  {
   "cell_type": "markdown",
   "metadata": {},
   "source": [
    "1. ***O(1) - Constant Time Complexity***"
   ]
  },
  {
   "cell_type": "code",
   "execution_count": 1,
   "metadata": {},
   "outputs": [
    {
     "name": "stdout",
     "output_type": "stream",
     "text": [
      "0\n"
     ]
    }
   ],
   "source": [
    "def get_first_element(arr):\n",
    "    return arr[0]\n",
    "\n",
    "sample_array = [0,1,2,3,4,5]\n",
    "\n",
    "print(get_first_element(arr=sample_array))"
   ]
  },
  {
   "cell_type": "markdown",
   "metadata": {},
   "source": [
    "2. ***O(log n) - Logarithmic Time Complexity***"
   ]
  },
  {
   "cell_type": "code",
   "execution_count": 2,
   "metadata": {},
   "outputs": [
    {
     "name": "stdout",
     "output_type": "stream",
     "text": [
      "Found 9 at index 4\n",
      "8 not found in the array\n"
     ]
    }
   ],
   "source": [
    "def binary_search(arr, target):\n",
    "    low, high = 0, len(arr) - 1\n",
    "    while low <= high:\n",
    "        mid = (low + high) // 2\n",
    "        if arr[mid] == target:\n",
    "            return mid\n",
    "        elif arr[mid] < target:\n",
    "            low = mid + 1\n",
    "        else:\n",
    "            high = mid - 1\n",
    "    return -1\n",
    "\n",
    "# Example usage\n",
    "sorted_array = [1, 3, 5, 7, 9, 11, 13, 15, 17, 19]\n",
    "\n",
    "# Case: Searching for a number present in the array\n",
    "target_number = 9\n",
    "result_index = binary_search(sorted_array, target_number)\n",
    "if result_index != -1:\n",
    "    print(f\"Found {target_number} at index {result_index}\")\n",
    "else:\n",
    "    print(f\"{target_number} not found in the array\")\n",
    "\n",
    "# Case: Searching for a number not present in the array\n",
    "target_number = 8\n",
    "result_index = binary_search(sorted_array, target_number)\n",
    "if result_index != -1:\n",
    "    print(f\"Found {target_number} at index {result_index}\")\n",
    "else:\n",
    "    print(f\"{target_number} not found in the array\")"
   ]
  },
  {
   "cell_type": "markdown",
   "metadata": {},
   "source": [
    "3. ***O(n) - Linear Time Complexity***"
   ]
  },
  {
   "cell_type": "code",
   "execution_count": 3,
   "metadata": {},
   "outputs": [
    {
     "name": "stdout",
     "output_type": "stream",
     "text": [
      "Found 9 at index 4\n",
      "8 not found in the array\n"
     ]
    }
   ],
   "source": [
    "def linear_search(arr, target):\n",
    "    for i in range(len(arr)):\n",
    "        if arr[i] == target:\n",
    "            return i\n",
    "    return -1\n",
    "\n",
    "# Example usage\n",
    "sample_array = [1, 3, 5, 7, 9, 11, 13, 15, 17, 19]\n",
    "\n",
    "# Case: Searching for a number present in the array\n",
    "target_number = 9\n",
    "result_index = linear_search(sample_array, target_number)\n",
    "if result_index != -1:\n",
    "    print(f\"Found {target_number} at index {result_index}\")\n",
    "else:\n",
    "    print(f\"{target_number} not found in the array\")\n",
    "\n",
    "# Case: Searching for a number not present in the array\n",
    "target_number = 8\n",
    "result_index = linear_search(sample_array, target_number)\n",
    "if result_index != -1:\n",
    "    print(f\"Found {target_number} at index {result_index}\")\n",
    "else:\n",
    "    print(f\"{target_number} not found in the array\")\n"
   ]
  },
  {
   "cell_type": "markdown",
   "metadata": {},
   "source": [
    "4. ***O(n^2) - Quadratic Time Complexity***"
   ]
  },
  {
   "cell_type": "code",
   "execution_count": 5,
   "metadata": {},
   "outputs": [
    {
     "name": "stdout",
     "output_type": "stream",
     "text": [
      "Sorted array is: [11, 12, 22, 25, 34, 64, 90]\n"
     ]
    }
   ],
   "source": [
    "def bubble_sort(arr):\n",
    "    n = len(arr)\n",
    "    for i in range(n):\n",
    "        for j in range(0, n - i - 1):\n",
    "            if arr[j] > arr[j + 1]:\n",
    "                arr[j], arr[j + 1] = arr[j + 1], arr[j]\n",
    "\n",
    "# Example usage\n",
    "sample_array = [64, 34, 25, 12, 22, 11, 90]\n",
    "\n",
    "bubble_sort(sample_array)\n",
    "print(\"Sorted array is:\", sample_array)"
   ]
  },
  {
   "cell_type": "markdown",
   "metadata": {},
   "source": [
    "5. ***O(2^n) - Exponential Time Complexity***"
   ]
  },
  {
   "cell_type": "code",
   "execution_count": 7,
   "metadata": {},
   "outputs": [
    {
     "name": "stdout",
     "output_type": "stream",
     "text": [
      "The 10th Fibonacci number is 55\n"
     ]
    }
   ],
   "source": [
    "def fibonacci_recursive(n):\n",
    "    if n <= 1:\n",
    "        return n\n",
    "    else:\n",
    "        return fibonacci_recursive(n - 1) + fibonacci_recursive(n - 2)\n",
    "\n",
    "# Example usage\n",
    "n = 10\n",
    "print(f\"The {n}th Fibonacci number is {fibonacci_recursive(n)}\")"
   ]
  },
  {
   "cell_type": "markdown",
   "metadata": {},
   "source": [
    "6. ***O(n!) - Factorial Time Complexity***"
   ]
  },
  {
   "cell_type": "code",
   "execution_count": 9,
   "metadata": {},
   "outputs": [
    {
     "name": "stdout",
     "output_type": "stream",
     "text": [
      "[(1, 2, 3), (1, 3, 2), (2, 1, 3), (2, 3, 1), (3, 1, 2), (3, 2, 1)]\n"
     ]
    }
   ],
   "source": [
    "import itertools\n",
    "\n",
    "def generate_permutations(items):\n",
    "    return list(itertools.permutations(items))\n",
    "\n",
    "# Example usage\n",
    "sample_items = [1, 2, 3]\n",
    "permutations = generate_permutations(sample_items)\n",
    "print(permutations)"
   ]
  }
 ],
 "metadata": {
  "kernelspec": {
   "display_name": "Python 3",
   "language": "python",
   "name": "python3"
  },
  "language_info": {
   "codemirror_mode": {
    "name": "ipython",
    "version": 3
   },
   "file_extension": ".py",
   "mimetype": "text/x-python",
   "name": "python",
   "nbconvert_exporter": "python",
   "pygments_lexer": "ipython3",
   "version": "3.11.7"
  }
 },
 "nbformat": 4,
 "nbformat_minor": 2
}
