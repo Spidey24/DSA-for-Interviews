{
 "cells": [
  {
   "cell_type": "markdown",
   "metadata": {},
   "source": [
    "### Writing Recursion in 3 Easy Steps\n",
    "\n",
    "1. **Identify the Recursive Case:**\n",
    "   Determine the problem that can be divided into smaller subproblems of the same nature. Identify when you can apply the same function to a smaller instance of the problem.\n",
    "\n",
    "2. **Define the Base Case:**\n",
    "   Establish the simplest possible case that does not require further recursive calls. This is the terminating condition that stops the recursion.\n",
    "\n",
    "3. **Handle Edge Cases:**\n",
    "   Consider any constraints or special cases that need to be addressed before entering into recursive calls. Use assertions or conditional checks to handle edge cases gracefully.\n",
    "\n",
    "\n"
   ]
  },
  {
   "cell_type": "markdown",
   "metadata": {},
   "source": [
    "### Example: Factorial Function in Python\n",
    "\n",
    "Here's an example of implementing a factorial function using recursion in Python: ***(Using `assert` keyword)***\n"
   ]
  },
  {
   "cell_type": "code",
   "execution_count": 2,
   "metadata": {},
   "outputs": [
    {
     "name": "stdout",
     "output_type": "stream",
     "text": [
      "Factorial of 5 is  120\n",
      "Factorial of 0 is  1\n"
     ]
    }
   ],
   "source": [
    "def factorial(n):\n",
    "    # Edge case: Ensure n is a positive integer\n",
    "    assert isinstance(n, int) and n >= 0, \"Input must be a positive integer\"\n",
    "    \n",
    "    # Base case: factorial of 0 is 1\n",
    "    if n == 0:\n",
    "        return 1\n",
    "    \n",
    "    # Recursive case: n! = n * (n-1)!\n",
    "    return n * factorial(n - 1)\n",
    "\n",
    "# Test the factorial function\n",
    "print(\"Factorial of 5 is \",factorial(5))  # Output: 120\n",
    "print(\"Factorial of 0 is \", factorial(0))  # Output: 1\n"
   ]
  },
  {
   "cell_type": "markdown",
   "metadata": {},
   "source": [
    "*In the above factorial function:*\n",
    "\n",
    "1. **Recursive Case**: The recursive case is defined by n * factorial(n - 1), where we reduce the problem of computing factorial of n to computing factorial of n - 1.\n",
    "\n",
    "2. **Base Case**: The base case is if n == 0, where the recursion stops and returns 1 because 0! = 1.\n",
    "\n",
    "3. **Edge Case Handling**: We use assert to ensure that n is a positive integer (isinstance(n, int) and n >= 0). This assertion checks the validity of the input before proceeding with the recursive computation.\n",
    "\n",
    "By following these steps and considering edge cases, we can effectively implement recursive functions that solve problems by breaking them down into simpler subproblems until reaching the base case. Always ensure proper error handling and input validation to make recursive functions robust and reliable."
   ]
  },
  {
   "cell_type": "markdown",
   "metadata": {},
   "source": [
    "### Same Example: Factorial Function in Python\n",
    "\n",
    "Here's the same example of implementing a factorial function using recursion in Python: ***(Using `try-except` block)***"
   ]
  },
  {
   "cell_type": "code",
   "execution_count": 6,
   "metadata": {},
   "outputs": [
    {
     "name": "stdout",
     "output_type": "stream",
     "text": [
      "120\n",
      "1\n",
      "Error: Input must be a positive integer\n",
      "Exiting function...\n",
      "Error: Input must be a positive integer\n",
      "Exiting function...\n"
     ]
    }
   ],
   "source": [
    "def factorial(n):\n",
    "    try:\n",
    "        # Check if n is a positive integer\n",
    "        if not isinstance(n, int) or n < 0:\n",
    "            raise ValueError(\"Input must be a positive integer\")\n",
    "        \n",
    "        # Base case: factorial of 0 is 1\n",
    "        if n == 0:\n",
    "            return 1\n",
    "        \n",
    "        # Recursive case: n! = n * (n-1)!\n",
    "        return n * factorial(n - 1)\n",
    "    \n",
    "    except ValueError as e:\n",
    "        print(f\"Error: {e}\")\n",
    "        return \"Exiting function...\"\n",
    "\n",
    "# Test the factorial function with valid and invalid inputs\n",
    "print(factorial(5))   # Output: 120\n",
    "print(factorial(0))   # Output: 1\n",
    "print(factorial(-1))  # Output: Error: Input must be a positive integer\n",
    "print(factorial('abc'))  # Output: Error: Input must be a positive integer\n"
   ]
  },
  {
   "cell_type": "code",
   "execution_count": 7,
   "metadata": {},
   "outputs": [
    {
     "name": "stdout",
     "output_type": "stream",
     "text": [
      "Fibonacci(0) = 0\n",
      "Fibonacci(1) = 1\n",
      "Fibonacci(2) = 1\n",
      "Fibonacci(3) = 2\n",
      "Fibonacci(4) = 3\n",
      "Fibonacci(5) = 5\n",
      "Fibonacci(6) = 8\n",
      "Fibonacci(7) = 13\n",
      "Fibonacci(8) = 21\n"
     ]
    }
   ],
   "source": [
    "# Fibonacci Series using assert \n",
    "def fibonacci_series(n):\n",
    "    assert isinstance(n, int) and n >= 0, \"Input must be a non-negative integer\"\n",
    "\n",
    "    def fibonacci_recursive(num):\n",
    "        # Base cases\n",
    "        if num == 0:\n",
    "            return 0\n",
    "        elif num == 1:\n",
    "            return 1\n",
    "        else:\n",
    "            # Recursive case: Fibonacci(n) = Fibonacci(n-1) + Fibonacci(n-2)\n",
    "            return fibonacci_recursive(num - 1) + fibonacci_recursive(num - 2)\n",
    "    \n",
    "    # Print Fibonacci series from 0 to n\n",
    "    for i in range(n + 1):\n",
    "        print(f\"Fibonacci({i}) = {fibonacci_recursive(i)}\")\n",
    "\n",
    "# Test the fibonacci_series function\n",
    "fibonacci_series(8) "
   ]
  },
  {
   "cell_type": "code",
   "execution_count": 9,
   "metadata": {},
   "outputs": [
    {
     "name": "stdout",
     "output_type": "stream",
     "text": [
      "Fibonacci(0) = 0\n",
      "Fibonacci(1) = 1\n",
      "Fibonacci(2) = 1\n",
      "Fibonacci(3) = 2\n",
      "Fibonacci(4) = 3\n",
      "Fibonacci(5) = 5\n",
      "Fibonacci(6) = 8\n",
      "Fibonacci(7) = 13\n",
      "Fibonacci(8) = 21\n",
      "---------------------------------------------\n",
      "Error: Input must be a non-negative integer\n",
      "---------------------------------------------\n",
      "Error: Input must be a non-negative integer\n"
     ]
    }
   ],
   "source": [
    "# Fibonacci Series using try-except\n",
    "def fibonacci_series(n):\n",
    "    try:\n",
    "        # Check if n is a non-negative integer\n",
    "        if not isinstance(n, int) or n < 0:\n",
    "            raise ValueError(\"Input must be a non-negative integer\")\n",
    "        \n",
    "        def fibonacci_recursive(num):\n",
    "            # Base cases\n",
    "            if num == 0:\n",
    "                return 0\n",
    "            elif num == 1:\n",
    "                return 1\n",
    "            else:\n",
    "                # Recursive case: Fibonacci(n) = Fibonacci(n-1) + Fibonacci(n-2)\n",
    "                return fibonacci_recursive(num - 1) + fibonacci_recursive(num - 2)\n",
    "        \n",
    "        # Print Fibonacci series from 0 to n\n",
    "        for i in range(n + 1):\n",
    "            print(f\"Fibonacci({i}) = {fibonacci_recursive(i)}\")\n",
    "    \n",
    "    except ValueError as e:\n",
    "        print(f\"Error: {e}\")\n",
    "        \n",
    "\n",
    "# Test the fibonacci_series function with valid and invalid inputs\n",
    "fibonacci_series(8)   # Output: Fibonacci series from 0 to 8\n",
    "print(\"---------------------------------------------\")\n",
    "fibonacci_series(-1)  # Output: Error: Input must be a non-negative integer\n",
    "print(\"---------------------------------------------\")\n",
    "fibonacci_series('abc')  # Output: Error: Input must be a non-negative integer"
   ]
  },
  {
   "cell_type": "code",
   "execution_count": null,
   "metadata": {},
   "outputs": [],
   "source": []
  }
 ],
 "metadata": {
  "kernelspec": {
   "display_name": "Python 3",
   "language": "python",
   "name": "python3"
  },
  "language_info": {
   "codemirror_mode": {
    "name": "ipython",
    "version": 3
   },
   "file_extension": ".py",
   "mimetype": "text/x-python",
   "name": "python",
   "nbconvert_exporter": "python",
   "pygments_lexer": "ipython3",
   "version": "3.11.7"
  }
 },
 "nbformat": 4,
 "nbformat_minor": 2
}
