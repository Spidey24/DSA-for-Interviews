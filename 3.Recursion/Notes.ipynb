{
 "cells": [
  {
   "cell_type": "markdown",
   "metadata": {},
   "source": [
    "## Recursion in Programming\n",
    "\n",
    "* **Recursion is a programming technique where a function calls itself directly or indirectly to solve a problem.**\n",
    "* *In simpler terms, it's a process of solving a problem by reducing it to smaller instances of the same problem.*\n",
    "\n",
    "### What is Recursion?\n",
    "\n",
    "Recursion involves breaking down a problem into smaller, similar subproblems until you reach a base case, which is a problem that can be solved directly without further recursion. The solution to the larger problem is then built up from the solutions of the smaller problems.\n",
    "\n",
    "### Real-life Example: Recursion in Family Trees\n",
    "\n",
    "An example of recursion in real life can be found in the concept of family trees. \n",
    "- Imagine you want to determine if a person A is a descendant of person B in a large family tree.\n",
    "- Instead of checking all descendants at once, you could break it down recursively by checking if person A is the child of person B or any of B's children, and then recursively checking if any of these children are descendants of A.\n",
    "\n",
    "Here's a graphical representation of this concept:\n",
    "```plaintext\n",
    "      A\n",
    "     / \\\n",
    "    E   B\n",
    "       / \\\n",
    "      C   D\n",
    "         / \\\n",
    "        F   G\n",
    "```\n"
   ]
  },
  {
   "cell_type": "markdown",
   "metadata": {},
   "source": [
    "#### Code Snippet\n",
    "\n",
    "Here's a simple example of recursion in Python to calculate the factorial of a number:\n",
    "\n",
    "```python\n",
    "def factorial(n):\n",
    "    if n == 0:\n",
    "        return 1\n",
    "    else:\n",
    "        return n * factorial(n - 1)\n",
    "\n",
    "result = factorial(5)\n",
    "print(\"Factorial of 5 is:\", result)\n",
    "```\n",
    "`Expected Output` : `Factorial of 5 is: 120`"
   ]
  },
  {
   "cell_type": "markdown",
   "metadata": {},
   "source": [
    "### Why Recursion?\n",
    "Recursion provides an elegant way to solve complex problems that can be broken down into smaller, similar problems. It often leads to shorter and more understandable code compared to iterative solutions."
   ]
  },
  {
   "cell_type": "markdown",
   "metadata": {},
   "source": [
    "### How Recursion Works\n",
    "\n",
    "1. **Base Case**: Every recursive function must have a base case, which is a condition where the function stops calling itself recursively. This prevents infinite recursion.\n",
    "\n",
    "2. **Recursive Case**: This is where the function calls itself with modified arguments to break down the problem into smaller subproblems. Each recursive call typically reduces the problem size until it reaches the base case.\n",
    "\n",
    "3. **Stack Frames**: Recursive calls are managed using a stack. Each recursive call adds a new stack frame, storing the current state of the function. When a base case is reached, the function begins to unwind the stack, combining results from each recursive call to solve the original problem.\n",
    "\n",
    "**Example**\n",
    "\n",
    "---\n",
    "```python\n",
    "def recursive_func(n):\n",
    "    if n < 1:\n",
    "        print(\"Recursion ended here\")\n",
    "    else:\n",
    "        recursive_func(n - 1)\n",
    "```\n",
    "\n",
    "*This function is a simple recursive function that decrements n until n is less than 1, printing a message when the recursion ends. Let's represent how this recursion progresses visually:*\n"
   ]
  },
  {
   "cell_type": "markdown",
   "metadata": {},
   "source": [
    "**When calling recursive_func(3), here's how the recursive calls would look visually:**\n",
    "\n",
    "```plaintext\n",
    "recursive_func(3)\n",
    "    |\n",
    "    |--> recursive_func(2)\n",
    "           |\n",
    "           |--> recursive_func(1)\n",
    "                  |\n",
    "                  |--> recursive_func(0)\n",
    "                          |\n",
    "                          |--> (Base case reached, recursion ends here)\n",
    "```"
   ]
  },
  {
   "cell_type": "markdown",
   "metadata": {},
   "source": [
    "*In this graphical representation:*\n",
    "\n",
    "* recursive_func(3) calls recursive_func(2)\n",
    "* recursive_func(2) calls recursive_func(1)\n",
    "* recursive_func(1) calls recursive_func(0)\n",
    "* recursive_func(0) is the base case where the recursion stops and prints \"Recursion ended here\".\n",
    "\n",
    "_Each recursive call reduces the value of n until it reaches the base case (n < 1), at which point the recursion stops and the function starts returning back up the call stack, completing each recursive call._"
   ]
  },
  {
   "cell_type": "markdown",
   "metadata": {},
   "source": [
    "### Recursion VS Iterative Solutions\n",
    "\n",
    "---\n",
    "\n",
    "| Factor              | Recursion                                      | Iterative Solution                              |\n",
    "|---------------------|------------------------------------------------|-------------------------------------------------|\n",
    "| **Definition**      | A function that calls itself directly or indirectly | A loop-based approach to solve problems          |\n",
    "| **Pros**            | - Can be more intuitive and easier to implement<br>- Can lead to shorter, clearer code<br>- Useful for problems with inherent recursive structure | - Typically more space efficient (uses less memory stack for small-scale problems)<br>- Usually simpler for linear operations (e.g., loops) |\n",
    "| **Cons**            | - May lead to stack overflow for deep recursion<br>- Potential performance overhead due to function call overhead and stack management<br>- Harder to debug and understand for deeply nested scenarios | - Can be less intuitive for certain problems (especially those with complex recursive patterns)<br>- May require more lines of code for equivalent recursive solution |\n",
    "| **Space Efficiency**| - Uses more memory due to recursion stack (stack frames) | - Generally more memory efficient for large-scale problems (avoids stack overflow) |\n",
    "| **Time Efficiency** | - Can be less time efficient due to function call overhead and potential redundant computations | - Often more time efficient for simple iterative operations (e.g., loops) |\n",
    "| **Compute Efficiency**| - May have higher computational cost due to repeated function calls and stack management | - Often more computationally efficient for problems where direct iterative methods are suitable |\n"
   ]
  },
  {
   "cell_type": "markdown",
   "metadata": {},
   "source": [
    "### When to Avoid Recursion\n",
    "\n",
    "1. **Large Input Sizes:**\n",
    "   Recursion can lead to stack overflow errors when dealing with large input sizes, especially if the recursive depth is not properly managed or limited.\n",
    "\n",
    "2. **Deeply Nested Recursive Calls:**\n",
    "   Deeply nested recursion can result in excessive memory usage and slow performance due to the overhead of managing function calls and stack frames.\n",
    "\n",
    "3. **Performance Critical Applications:**\n",
    "   In performance-critical applications where efficiency is paramount, iterative solutions may offer better performance compared to recursive approaches.\n",
    "\n",
    "4. **Iterative Solutions Are More Readable:**\n",
    "   Some problems are more naturally solved using iterative approaches, which can result in clearer and more readable code compared to recursive solutions.\n",
    "\n",
    "5. **Tail Recursion Not Supported:**\n",
    "   In languages or environments that do not optimize tail recursion (where the recursive call is the last operation performed), recursive solutions may be less efficient and should be avoided.\n",
    "\n",
    "6. **Memory Constraints:**\n",
    "   Recursion can consume more memory compared to iterative solutions, especially for problems with deep recursion or large input sizes.\n",
    "\n",
    "7. **Debugging Complexity:**\n",
    "   Deeply nested recursive functions can be harder to debug and maintain, leading to potential issues in understanding and modifying the code.\n",
    "\n",
    "8. **Handling Dynamic Input:**\n",
    "   Recursive functions may not be suitable for handling dynamic input sizes or streaming data, as they rely on the call stack which has a fixed capacity.\n",
    "\n",
    "9. **Avoiding Redundant Work:**\n",
    "   Some recursive solutions can result in redundant computations or duplicate work, especially if proper memoization or caching techniques are not applied.\n",
    "\n",
    "10. **Alternative Solutions Available:**\n",
    "    If there are alternative non-recursive approaches that are equally effective and efficient for a given problem, it may be preferable to use those instead of recursion.\n",
    "\n"
   ]
  },
  {
   "cell_type": "markdown",
   "metadata": {},
   "source": []
  }
 ],
 "metadata": {
  "language_info": {
   "name": "python"
  }
 },
 "nbformat": 4,
 "nbformat_minor": 2
}
